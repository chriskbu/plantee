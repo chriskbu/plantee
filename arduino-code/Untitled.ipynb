{
 "cells": [
  {
   "cell_type": "code",
   "execution_count": 14,
   "metadata": {},
   "outputs": [],
   "source": [
    "from datetime import datetime\n",
    "import serial\n",
    "import sys\n",
    "import sqlite3"
   ]
  },
  {
   "cell_type": "code",
   "execution_count": 15,
   "metadata": {
    "collapsed": true
   },
   "outputs": [],
   "source": [
    "db = sqlite3.connect(\"plantdata.db\")"
   ]
  },
  {
   "cell_type": "code",
   "execution_count": 16,
   "metadata": {},
   "outputs": [
    {
     "data": {
      "text/plain": [
       "<sqlite3.Connection at 0x7f18df9b9e30>"
      ]
     },
     "execution_count": 16,
     "metadata": {},
     "output_type": "execute_result"
    }
   ],
   "source": [
    "db"
   ]
  },
  {
   "cell_type": "code",
   "execution_count": 4,
   "metadata": {
    "collapsed": true
   },
   "outputs": [],
   "source": [
    "sql_table = '''\n",
    "\n",
    "CREATE TABLE plant_data(timestamp text, sensor_read text, percentage text, num_lights text)\n",
    "\n",
    "'''"
   ]
  },
  {
   "cell_type": "code",
   "execution_count": 17,
   "metadata": {
    "collapsed": true
   },
   "outputs": [],
   "source": [
    "cursor = db.cursor()"
   ]
  },
  {
   "cell_type": "code",
   "execution_count": 6,
   "metadata": {},
   "outputs": [
    {
     "data": {
      "text/plain": [
       "<sqlite3.Cursor at 0x7f18df9e2b90>"
      ]
     },
     "execution_count": 6,
     "metadata": {},
     "output_type": "execute_result"
    }
   ],
   "source": [
    "cursor.execute(sql_table)"
   ]
  },
  {
   "cell_type": "code",
   "execution_count": 18,
   "metadata": {},
   "outputs": [
    {
     "data": {
      "text/plain": [
       "datetime.datetime(2017, 6, 26, 15, 4, 51, 752478)"
      ]
     },
     "execution_count": 18,
     "metadata": {},
     "output_type": "execute_result"
    }
   ],
   "source": [
    "cur_time = datetime.now()\n",
    "cur_time"
   ]
  },
  {
   "cell_type": "code",
   "execution_count": 12,
   "metadata": {},
   "outputs": [
    {
     "data": {
      "text/plain": [
       "<sqlite3.Cursor at 0x7f18df9e2b90>"
      ]
     },
     "execution_count": 12,
     "metadata": {},
     "output_type": "execute_result"
    }
   ],
   "source": [
    "cursor.execute('''INSERT INTO plant_data(timestamp, sensor_read, percentage, num_lights) VALUES(?,?,?,?)''', \n",
    "               (cur_time, \"255.0\", \"95.0\", \"Test Data\"))"
   ]
  },
  {
   "cell_type": "code",
   "execution_count": 7,
   "metadata": {
    "collapsed": true
   },
   "outputs": [],
   "source": [
    "ser_port = serial.Serial(\"/dev/ttyACM0\", 9600)"
   ]
  },
  {
   "cell_type": "code",
   "execution_count": 13,
   "metadata": {},
   "outputs": [
    {
     "name": "stdout",
     "output_type": "stream",
     "text": [
      "2017-06-26 15:03:25.302014 234.00     99.00     6\n",
      "2017-06-26 15:03:25.501541 235.00     98.75     6\n",
      "2017-06-26 15:03:25.614945 234.00     99.00     6\n",
      "2017-06-26 15:03:25.725237 234.00     99.00     6\n",
      "2017-06-26 15:03:25.837531 234.00     99.00     6\n",
      "2017-06-26 15:03:25.969691 234.00     99.00     6\n",
      "2017-06-26 15:03:26.081978 233.00     99.25     6\n",
      "2017-06-26 15:03:26.212713 233.00     99.25     6\n",
      "2017-06-26 15:03:26.315008 234.00     99.00     6\n",
      "2017-06-26 15:03:26.404472 234.00     99.00     6\n",
      "2017-06-26 15:03:26.514689 234.00     99.00     6\n",
      "2017-06-26 15:03:26.625043 234.00     99.00     6\n",
      "2017-06-26 15:03:26.736979 234.00     99.00     6\n",
      "2017-06-26 15:03:26.848746 234.00     99.00     6\n",
      "2017-06-26 15:03:26.938277 234.00     99.00     6\n",
      "2017-06-26 15:03:27.048460 234.00     99.00     6\n",
      "2017-06-26 15:03:27.146085 234.00     99.00     6\n",
      "2017-06-26 15:03:27.247777 233.00     99.25     6\n",
      "2017-06-26 15:03:27.358790 235.00     98.75     6\n",
      "2017-06-26 15:03:27.481762 234.00     99.00     6\n",
      "2017-06-26 15:03:27.602694 234.00     99.00     6\n",
      "2017-06-26 15:03:27.702756 234.00     99.00     6\n",
      "2017-06-26 15:03:27.835646 233.00     99.25     6\n",
      "2017-06-26 15:03:27.958273 234.00     99.00     6\n",
      "2017-06-26 15:03:28.058159 233.00     99.25     6\n",
      "2017-06-26 15:03:28.157067 234.00     99.00     6\n",
      "2017-06-26 15:03:28.268367 234.00     99.00     6\n",
      "2017-06-26 15:03:28.379695 234.00     99.00     6\n",
      "2017-06-26 15:03:28.492995 234.00     99.00     6\n",
      "2017-06-26 15:03:28.592821 234.00     99.00     6\n",
      "2017-06-26 15:03:28.694291 234.00     99.00     6\n",
      "2017-06-26 15:03:28.825306 234.00     99.00     6\n",
      "2017-06-26 15:03:28.926631 234.00     99.00     6\n",
      "2017-06-26 15:03:29.068973 234.00     99.00     6\n",
      "2017-06-26 15:03:29.181190 234.00     99.00     6\n",
      "2017-06-26 15:03:29.348065 234.00     99.00     6\n",
      "2017-06-26 15:03:29.548141 233.00     99.25     6\n",
      "2017-06-26 15:03:29.670186 234.00     99.00     6\n",
      "2017-06-26 15:03:29.769793 233.00     99.25     6\n",
      "2017-06-26 15:03:29.868337 234.00     99.00     6\n",
      "2017-06-26 15:03:29.960555 233.00     99.25     6\n",
      "2017-06-26 15:03:30.082598 233.00     99.25     6\n",
      "2017-06-26 15:03:30.203350 233.00     99.25     6\n",
      "2017-06-26 15:03:30.293675 233.00     99.25     6\n",
      "2017-06-26 15:03:30.393456 234.00     99.00     6\n",
      "2017-06-26 15:03:30.492986 233.00     99.25     6\n",
      "2017-06-26 15:03:30.651405 233.00     99.25     6\n",
      "2017-06-26 15:03:32.748497 233.00     99.25     6\n",
      "2017-06-26 15:03:35.198356 234.00     99.00     6\n",
      "2017-06-26 15:03:37.647867 233.00     99.25     6\n",
      "2017-06-26 15:03:40.101572 234.00     99.00     6\n",
      "2017-06-26 15:03:42.550929 233.00     99.25     6\n",
      "2017-06-26 15:03:45.000703 234.00     99.00     6\n",
      "2017-06-26 15:03:47.450331 233.00     99.25     6\n",
      "2017-06-26 15:03:49.903983 233.00     99.25     6\n",
      "2017-06-26 15:03:52.353604 233.00     99.25     6\n",
      "2017-06-26 15:03:54.803184 233.00     99.25     6\n",
      "2017-06-26 15:03:57.256674 234.00     99.00     6\n",
      "2017-06-26 15:03:59.706491 233.00     99.25     6\n",
      "2017-06-26 15:04:02.156053 233.00     99.25     6\n",
      "2017-06-26 15:04:04.605566 233.00     99.25     6\n",
      "2017-06-26 15:04:07.059138 234.00     99.00     6\n",
      "2017-06-26 15:04:09.508922 233.00     99.25     6\n",
      "2017-06-26 15:04:11.958561 233.00     99.25     6\n",
      "2017-06-26 15:04:14.408126 234.00     99.00     6\n",
      "2017-06-26 15:04:16.861689 233.00     99.25     6\n",
      "2017-06-26 15:04:19.311319 233.00     99.25     6\n",
      "2017-06-26 15:04:24.454063 233.00     99.25     6\n",
      "2017-06-26 15:04:24.643240 234.00     99.00     6\n",
      "2017-06-26 15:04:26.664178 233.00     99.25     6\n",
      "2017-06-26 15:04:29.113729 233.00     99.25     6\n"
     ]
    },
    {
     "ename": "KeyboardInterrupt",
     "evalue": "",
     "output_type": "error",
     "traceback": [
      "\u001b[0;31m---------------------------------------------------------------------------\u001b[0m",
      "\u001b[0;31mKeyboardInterrupt\u001b[0m                         Traceback (most recent call last)",
      "\u001b[0;32m<ipython-input-13-d2511d5a7094>\u001b[0m in \u001b[0;36m<module>\u001b[0;34m()\u001b[0m\n\u001b[1;32m      1\u001b[0m \u001b[0;32mwhile\u001b[0m \u001b[0;36m1\u001b[0m\u001b[0;34m:\u001b[0m\u001b[0;34m\u001b[0m\u001b[0m\n\u001b[0;32m----> 2\u001b[0;31m     \u001b[0mdata\u001b[0m \u001b[0;34m=\u001b[0m \u001b[0mser_port\u001b[0m\u001b[0;34m.\u001b[0m\u001b[0mreadline\u001b[0m\u001b[0;34m(\u001b[0m\u001b[0;34m)\u001b[0m\u001b[0;34m.\u001b[0m\u001b[0mdecode\u001b[0m\u001b[0;34m(\u001b[0m\u001b[0;34m)\u001b[0m\u001b[0;34m[\u001b[0m\u001b[0;34m:\u001b[0m\u001b[0;34m-\u001b[0m\u001b[0;36m1\u001b[0m\u001b[0;34m]\u001b[0m\u001b[0;34m.\u001b[0m\u001b[0mstrip\u001b[0m\u001b[0;34m(\u001b[0m\u001b[0;34m)\u001b[0m\u001b[0;34m.\u001b[0m\u001b[0msplit\u001b[0m\u001b[0;34m(\u001b[0m\u001b[0;34m\",\"\u001b[0m\u001b[0;34m)\u001b[0m\u001b[0;34m\u001b[0m\u001b[0m\n\u001b[0m\u001b[1;32m      3\u001b[0m     \u001b[0msensor_read\u001b[0m \u001b[0;34m=\u001b[0m \u001b[0mdata\u001b[0m\u001b[0;34m[\u001b[0m\u001b[0;36m0\u001b[0m\u001b[0;34m]\u001b[0m\u001b[0;34m\u001b[0m\u001b[0m\n\u001b[1;32m      4\u001b[0m     \u001b[0mpercentage\u001b[0m \u001b[0;34m=\u001b[0m \u001b[0mdata\u001b[0m\u001b[0;34m[\u001b[0m\u001b[0;36m1\u001b[0m\u001b[0;34m]\u001b[0m\u001b[0;34m\u001b[0m\u001b[0m\n\u001b[1;32m      5\u001b[0m     \u001b[0mnum_leds\u001b[0m \u001b[0;34m=\u001b[0m \u001b[0mdata\u001b[0m\u001b[0;34m[\u001b[0m\u001b[0;36m2\u001b[0m\u001b[0;34m]\u001b[0m\u001b[0;34m\u001b[0m\u001b[0m\n",
      "\u001b[0;32m/usr/local/lib/python3.5/dist-packages/serial/serialposix.py\u001b[0m in \u001b[0;36mread\u001b[0;34m(self, size)\u001b[0m\n\u001b[1;32m    481\u001b[0m         \u001b[0;32mwhile\u001b[0m \u001b[0mlen\u001b[0m\u001b[0;34m(\u001b[0m\u001b[0mread\u001b[0m\u001b[0;34m)\u001b[0m \u001b[0;34m<\u001b[0m \u001b[0msize\u001b[0m\u001b[0;34m:\u001b[0m\u001b[0;34m\u001b[0m\u001b[0m\n\u001b[1;32m    482\u001b[0m             \u001b[0;32mtry\u001b[0m\u001b[0;34m:\u001b[0m\u001b[0;34m\u001b[0m\u001b[0m\n\u001b[0;32m--> 483\u001b[0;31m                 \u001b[0mready\u001b[0m\u001b[0;34m,\u001b[0m \u001b[0m_\u001b[0m\u001b[0;34m,\u001b[0m \u001b[0m_\u001b[0m \u001b[0;34m=\u001b[0m \u001b[0mselect\u001b[0m\u001b[0;34m.\u001b[0m\u001b[0mselect\u001b[0m\u001b[0;34m(\u001b[0m\u001b[0;34m[\u001b[0m\u001b[0mself\u001b[0m\u001b[0;34m.\u001b[0m\u001b[0mfd\u001b[0m\u001b[0;34m,\u001b[0m \u001b[0mself\u001b[0m\u001b[0;34m.\u001b[0m\u001b[0mpipe_abort_read_r\u001b[0m\u001b[0;34m]\u001b[0m\u001b[0;34m,\u001b[0m \u001b[0;34m[\u001b[0m\u001b[0;34m]\u001b[0m\u001b[0;34m,\u001b[0m \u001b[0;34m[\u001b[0m\u001b[0;34m]\u001b[0m\u001b[0;34m,\u001b[0m \u001b[0mtimeout\u001b[0m\u001b[0;34m.\u001b[0m\u001b[0mtime_left\u001b[0m\u001b[0;34m(\u001b[0m\u001b[0;34m)\u001b[0m\u001b[0;34m)\u001b[0m\u001b[0;34m\u001b[0m\u001b[0m\n\u001b[0m\u001b[1;32m    484\u001b[0m                 \u001b[0;32mif\u001b[0m \u001b[0mself\u001b[0m\u001b[0;34m.\u001b[0m\u001b[0mpipe_abort_read_r\u001b[0m \u001b[0;32min\u001b[0m \u001b[0mready\u001b[0m\u001b[0;34m:\u001b[0m\u001b[0;34m\u001b[0m\u001b[0m\n\u001b[1;32m    485\u001b[0m                     \u001b[0mos\u001b[0m\u001b[0;34m.\u001b[0m\u001b[0mread\u001b[0m\u001b[0;34m(\u001b[0m\u001b[0mself\u001b[0m\u001b[0;34m.\u001b[0m\u001b[0mpipe_abort_read_r\u001b[0m\u001b[0;34m,\u001b[0m \u001b[0;36m1000\u001b[0m\u001b[0;34m)\u001b[0m\u001b[0;34m\u001b[0m\u001b[0m\n",
      "\u001b[0;31mKeyboardInterrupt\u001b[0m: "
     ]
    }
   ],
   "source": [
    "while 1:\n",
    "    data = ser_port.readline().decode()[:-1].strip().split(\",\")\n",
    "    sensor_read = data[0]\n",
    "    percentage = data[1]\n",
    "    num_leds = data[2]\n",
    "    cur_time = datetime.now()\n",
    "    cursor.execute('''INSERT INTO plant_data(timestamp, sensor_read, percentage, num_lights) VALUES(?,?,?,?)''', (cur_time, sensor_read, percentage, num_leds))\n",
    "    db.commit()\n",
    "    print(cur_time, sensor_read, percentage, num_leds)\n",
    "    "
   ]
  },
  {
   "cell_type": "code",
   "execution_count": null,
   "metadata": {
    "collapsed": true
   },
   "outputs": [],
   "source": []
  }
 ],
 "metadata": {
  "kernelspec": {
   "display_name": "Python 3",
   "language": "python",
   "name": "python3"
  },
  "language_info": {
   "codemirror_mode": {
    "name": "ipython",
    "version": 3
   },
   "file_extension": ".py",
   "mimetype": "text/x-python",
   "name": "python",
   "nbconvert_exporter": "python",
   "pygments_lexer": "ipython3",
   "version": "3.5.3"
  }
 },
 "nbformat": 4,
 "nbformat_minor": 2
}
